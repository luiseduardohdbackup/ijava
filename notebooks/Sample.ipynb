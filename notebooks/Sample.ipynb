{
 "metadata": {
  "name": "",
  "signature": "sha256:ff3dc0ecddb1538ea64ac2ec4a6531230cb0ded20a8ea23aed3ecfa95df62846"
 },
 "nbformat": 3,
 "nbformat_minor": 0,
 "worksheets": [
  {
   "cells": [
    {
     "cell_type": "code",
     "collapsed": false,
     "input": [
      "print(\"Hello World!\");"
     ],
     "language": "java",
     "metadata": {
      "ijava.snippet.type": "CodeBlock"
     },
     "outputs": [
      {
       "output_type": "stream",
       "stream": "stdout",
       "text": [
        "Hello World!"
       ]
      }
     ],
     "prompt_number": 1
    },
    {
     "cell_type": "code",
     "collapsed": false,
     "input": [
      "public class Point {\n",
      "  public int x, y;\n",
      "  \n",
      "  public Point(int x, int y) { this.x = x; this.y = y; }\n",
      "  @Override public String toString() { return String.format(\"[%d,%d]\", x, y); }\n",
      "}"
     ],
     "language": "java",
     "metadata": {
      "ijava.snippet.type": "CompilationUnit"
     },
     "outputs": [],
     "prompt_number": 2
    },
    {
     "cell_type": "code",
     "collapsed": false,
     "input": [
      "Point p = new Point(10, 5);"
     ],
     "language": "java",
     "metadata": {
      "ijava.snippet.type": "CodeMembers"
     },
     "outputs": [],
     "prompt_number": 3
    },
    {
     "cell_type": "code",
     "collapsed": false,
     "input": [
      "print(p);"
     ],
     "language": "java",
     "metadata": {
      "ijava.snippet.type": "CodeBlock"
     },
     "outputs": [
      {
       "output_type": "stream",
       "stream": "stdout",
       "text": [
        "[10,5]"
       ]
      }
     ],
     "prompt_number": 4
    },
    {
     "cell_type": "code",
     "collapsed": false,
     "input": [],
     "language": "java",
     "metadata": {},
     "outputs": []
    }
   ],
   "metadata": {}
  }
 ]
}