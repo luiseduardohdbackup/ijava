{
 "metadata": {
  "name": "",
  "signature": "sha256:c3087f93a66a7ae787914939259a4ac30ef3946618eb9b868b743deb7afd6c32"
 },
 "nbformat": 3,
 "nbformat_minor": 0,
 "worksheets": [
  {
   "cells": [
    {
     "cell_type": "heading",
     "level": 1,
     "metadata": {},
     "source": [
      "Introduction to IJava"
     ]
    },
    {
     "cell_type": "markdown",
     "metadata": {},
     "source": [
      "IJava is a backend kernel that can plugs in, into IPython to enable a Java-language notebook experience. This notebook describes and demonstrates the use of IJava, and the Java language in a more dynamic, REPL environment.\n",
      "\n",
      "Java code is authored directly across cells in the notebook. Code is compiled in-memory, one cell at a time, into byte code that is then executed to produce cell results."
     ]
    },
    {
     "cell_type": "markdown",
     "metadata": {},
     "source": [
      "---"
     ]
    },
    {
     "cell_type": "heading",
     "level": 2,
     "metadata": {},
     "source": [
      "Cell Types"
     ]
    },
    {
     "cell_type": "markdown",
     "metadata": {},
     "source": [
      "The notebook allows you to use a combination of markdown, header and code cells. Markdown and header cells work in the same way irrespective of the java backend. There are a few different code cell types for use in an IJava notebook:\n",
      "\n",
      "* Executable code  (cells declaring statements or expression which are compiled and immediately executed)\n",
      "* Compiled code (cells declaring types, or imports, or methods, which are compiled and made available for reference)\n",
      "* Commands"
     ]
    },
    {
     "cell_type": "heading",
     "level": 3,
     "metadata": {},
     "source": [
      "Executable Code Cells"
     ]
    },
    {
     "cell_type": "markdown",
     "metadata": {},
     "source": [
      "Executable code cells contain code that is parsed as either java statements or expressions. These cells are compiled, and immediately executed.\n",
      "\n",
      "Here are couple of examples:"
     ]
    },
    {
     "cell_type": "code",
     "collapsed": false,
     "input": [
      "// A statement\n",
      "System.out.println(\"Hello\");"
     ],
     "language": "java",
     "metadata": {
      "ijava.snippet.type": "CodeBlock"
     },
     "outputs": [
      {
       "output_type": "stream",
       "stream": "stdout",
       "text": [
        "Hello\n"
       ]
      }
     ],
     "prompt_number": 1
    },
    {
     "cell_type": "code",
     "collapsed": false,
     "input": [
      "// An expression\n",
      "new Date()"
     ],
     "language": "java",
     "metadata": {
      "ijava.snippet.type": "CodeExpression"
     },
     "outputs": [
      {
       "metadata": {},
       "output_type": "display_data",
       "text": [
        "Tue Jan 27 00:14:28 PST 2015"
       ]
      }
     ],
     "prompt_number": 2
    },
    {
     "cell_type": "heading",
     "level": 3,
     "metadata": {},
     "source": [
      "Compiled Code Cells"
     ]
    },
    {
     "cell_type": "markdown",
     "metadata": {},
     "source": [
      "Compiled code cells contain code that defines members, or types, or import declarations. All of these can subsequently be referred to within executable code cells.\n",
      "\n",
      "Additionally any initializer expressions for field members are immediately executed to either create or update session variables managed by the notebook.\n",
      "\n",
      "Here are some examples:"
     ]
    },
    {
     "cell_type": "code",
     "collapsed": false,
     "input": [
      "// A class declaration\n",
      "public class Calculator {\n",
      "  \n",
      "  private int _value;\n",
      "  \n",
      "  public int add(int value) {\n",
      "    _value += value;\n",
      "    return _value;\n",
      "  }\n",
      "}"
     ],
     "language": "java",
     "metadata": {
      "ijava.snippet.type": "CompilationUnit"
     },
     "outputs": [],
     "prompt_number": 3
    },
    {
     "cell_type": "code",
     "collapsed": false,
     "input": [
      "// A field declaration\n",
      "int a = 42;"
     ],
     "language": "java",
     "metadata": {
      "ijava.snippet.type": "CodeMembers"
     },
     "outputs": [],
     "prompt_number": 4
    },
    {
     "cell_type": "code",
     "collapsed": false,
     "input": [
      "// A method\n",
      "public void sum(int... numbers) {\n",
      "  int sum = 0;\n",
      "  Calculator calc = new Calculator();\n",
      "  for (int i: numbers) {\n",
      "    sum = calc.add(i);\n",
      "  }\n",
      "  \n",
      "  System.out.println(sum);\n",
      "}"
     ],
     "language": "java",
     "metadata": {
      "ijava.snippet.type": "CodeMembers"
     },
     "outputs": [],
     "prompt_number": 5
    },
    {
     "cell_type": "code",
     "collapsed": false,
     "input": [
      "// Referencing the method in an executable code cell\n",
      "sum(1, 2, 3, 4, 5);"
     ],
     "language": "java",
     "metadata": {
      "ijava.snippet.type": "CodeBlock"
     },
     "outputs": [
      {
       "output_type": "stream",
       "stream": "stdout",
       "text": [
        "15\n"
       ]
      }
     ],
     "prompt_number": 6
    },
    {
     "cell_type": "code",
     "collapsed": false,
     "input": [
      "// Import declarations\n",
      "import java.util.regex.*;"
     ],
     "language": "java",
     "metadata": {},
     "outputs": [],
     "prompt_number": 7
    },
    {
     "cell_type": "heading",
     "level": 3,
     "metadata": {},
     "source": [
      "Command Cells"
     ]
    },
    {
     "cell_type": "markdown",
     "metadata": {},
     "source": [
      "Command cells are very much like commands executed within the notebook. They are not java code directly. Some commands:\n",
      "\n",
      "- imports - lists current set of imports\n",
      "- jars - list current set of referenced dependencies\n",
      "- text - render specified text, or create a String variable with the specified name\n",
      "- html - render specified markup\n",
      "- json - create an Object variable with the JSON contnet parsed\n",
      "\n",
      "Command cells always start with \"%\" or \"%%\" followed by the name of the command, any associated options (use --? for help on individual commands), followed by any additional data needed by the command. Here are some examples:"
     ]
    },
    {
     "cell_type": "code",
     "collapsed": false,
     "input": [
      "%imports"
     ],
     "language": "java",
     "metadata": {},
     "outputs": [
      {
       "metadata": {},
       "output_type": "display_data",
       "text": [
        "import java.io.*;\n",
        "import java.net.*;\n",
        "import java.util.*;\n",
        "import java.util.regex.*;\n",
        "import static ijava.JavaHelpers.*;\n"
       ]
      }
     ],
     "prompt_number": 8
    },
    {
     "cell_type": "code",
     "collapsed": false,
     "input": [
      "%jars"
     ],
     "language": "java",
     "metadata": {},
     "outputs": [
      {
       "metadata": {},
       "output_type": "display_data",
       "text": [
        "ijavart.jar\n",
        "rt.jar\n"
       ]
      }
     ],
     "prompt_number": 9
    },
    {
     "cell_type": "code",
     "collapsed": false,
     "input": [
      "%%html\n",
      "<h1>Hello</h1>"
     ],
     "language": "java",
     "metadata": {},
     "outputs": [
      {
       "html": [
        "<h1>Hello</h1>"
       ],
       "metadata": {},
       "output_type": "display_data"
      }
     ],
     "prompt_number": 10
    },
    {
     "cell_type": "code",
     "collapsed": false,
     "input": [
      "%%json\n",
      "{\n",
      "  \"item1\": \"foobar\",\n",
      "  \"item2\": [\n",
      "    { \"xyz\": 123 }\n",
      "  ]\n",
      "}"
     ],
     "language": "java",
     "metadata": {},
     "outputs": [
      {
       "metadata": {},
       "output_type": "display_data",
       "text": [
        "{item1=foobar, item2=[{xyz=123}]}"
       ]
      }
     ],
     "prompt_number": 11
    },
    {
     "cell_type": "code",
     "collapsed": false,
     "input": [
      "%%json --?"
     ],
     "language": "java",
     "metadata": {},
     "outputs": [
      {
       "output_type": "stream",
       "stream": "stdout",
       "text": [
        "Usage: json [options]\n",
        "  Options:\n",
        "        --help\n",
        "       Show usage information\n",
        "       Default: false\n",
        "        --name\n",
        "       The name of the variable to create\n",
        "       Default: <empty string>\n",
        "\n",
        "[ ... additional content associated with command]\n"
       ]
      },
      {
       "output_type": "stream",
       "stream": "stderr",
       "text": [
        "Invalid syntax. Unable to parse options for command 'json'\n"
       ]
      }
     ],
     "prompt_number": 12
    },
    {
     "cell_type": "markdown",
     "metadata": {},
     "source": [
      "---"
     ]
    },
    {
     "cell_type": "heading",
     "level": 2,
     "metadata": {},
     "source": [
      "Interactive Java Experience"
     ]
    },
    {
     "cell_type": "heading",
     "level": 3,
     "metadata": {},
     "source": [
      "Notebook Session"
     ]
    },
    {
     "cell_type": "markdown",
     "metadata": {},
     "source": [
      "A notebook instance is associated with a kernel instance. Like other IPython kernels, the IJava kernel also manages state associated with the session.\n",
      "\n",
      "In IJava, there are two parts of session data:\n",
      "\n",
      "* Variables\n",
      "* Types\n",
      "\n",
      "Lets define a simple class in one cell, and then use it another."
     ]
    },
    {
     "cell_type": "code",
     "collapsed": false,
     "input": [
      "public class Point {\n",
      "  public int x;\n",
      "  public int y;\n",
      "}"
     ],
     "language": "java",
     "metadata": {
      "ijava.snippet.type": "CompilationUnit"
     },
     "outputs": [],
     "prompt_number": 13
    },
    {
     "cell_type": "code",
     "collapsed": false,
     "input": [
      "Point p = new Point();\n",
      "p.x = 100;\n",
      "p.y = 100;\n",
      "\n",
      "System.out.println(p);"
     ],
     "language": "java",
     "metadata": {
      "ijava.snippet.type": "CodeBlock"
     },
     "outputs": [
      {
       "output_type": "stream",
       "stream": "stdout",
       "text": [
        "Point@49266e81\n"
       ]
      }
     ],
     "prompt_number": 14
    },
    {
     "cell_type": "heading",
     "level": 3,
     "metadata": {},
     "source": [
      "Dependencies"
     ]
    },
    {
     "cell_type": "markdown",
     "metadata": {},
     "source": [
      "Dependencies, i.e. jars can be loaded which allows code to import packages and reference types. Dependency jars can be referenced as file paths, or as maven artifacts.\n",
      "\n",
      "This example shows loading a maven artifact. By default, the transitive closure of jars is loaded. This behavior can be turned off, allowing you to explicitly load only specific jars via a flag on the command `--transitive:false`."
     ]
    },
    {
     "cell_type": "code",
     "collapsed": false,
     "input": [
      "%dependency maven:///org.apache.commons/commons-lang3/3.1"
     ],
     "language": "java",
     "metadata": {},
     "outputs": [],
     "prompt_number": 15
    },
    {
     "cell_type": "markdown",
     "metadata": {},
     "source": [
      "As a result of loading the maven artifact with group = `org.apache.commons` and artifact id = `commons-lang3`, the following import and use of the jar functionality should work:"
     ]
    },
    {
     "cell_type": "code",
     "collapsed": false,
     "input": [
      "%jars"
     ],
     "language": "java",
     "metadata": {},
     "outputs": [
      {
       "metadata": {},
       "output_type": "display_data",
       "text": [
        "commons-lang3-3.1.jar\n",
        "ijavart.jar\n",
        "rt.jar\n"
       ]
      }
     ],
     "prompt_number": 16
    },
    {
     "cell_type": "markdown",
     "metadata": {},
     "source": [
      "At this point, the following import and functionality can be used."
     ]
    },
    {
     "cell_type": "code",
     "collapsed": false,
     "input": [
      "import org.apache.commons.lang3.tuple.*;"
     ],
     "language": "java",
     "metadata": {},
     "outputs": [],
     "prompt_number": 17
    },
    {
     "cell_type": "code",
     "collapsed": false,
     "input": [
      "Pair<String, Integer> pair = Pair.of(\"java\", 100);\n",
      "return pair;"
     ],
     "language": "java",
     "metadata": {
      "ijava.snippet.type": "CodeBlock"
     },
     "outputs": [
      {
       "metadata": {},
       "output_type": "display_data",
       "text": [
        "(java,100)"
       ]
      }
     ],
     "prompt_number": 18
    },
    {
     "cell_type": "heading",
     "level": 3,
     "metadata": {},
     "source": [
      "Java Helpers"
     ]
    },
    {
     "cell_type": "code",
     "collapsed": false,
     "input": [],
     "language": "java",
     "metadata": {},
     "outputs": [],
     "prompt_number": 19
    },
    {
     "cell_type": "heading",
     "level": 3,
     "metadata": {},
     "source": [
      "Class Definitions (and redefinitions)"
     ]
    },
    {
     "cell_type": "markdown",
     "metadata": {},
     "source": [
      "When IJava compiles code, it places types into a class loader. Variables are associated with classes (Java being a static language), whose identity is defined by the combination of their full type and associated class loader.\n",
      "\n",
      "When a class is redefined, essentially a new type is created in a new class loader which hides the original definition from subsequent code. However, any existing variables that already exist are still associated with the older class definition. As such old variables cannot be assigned or used in APIs expecting the new type.\n",
      "\n",
      "The solution for this is to re-initialize old variables with the new type definition. Lets look at a specific example:"
     ]
    },
    {
     "cell_type": "code",
     "collapsed": false,
     "input": [
      "// Create a variable of the Point type\n",
      "Point p = new Point();"
     ],
     "language": "java",
     "metadata": {
      "ijava.snippet.type": "CodeMembers"
     },
     "outputs": [],
     "prompt_number": 19
    },
    {
     "cell_type": "code",
     "collapsed": false,
     "input": [
      "// Redeclare a new definition of Point (done here in a new cell -\n",
      "// in reality you'll likely modify the existing definition in the existing cell)\n",
      "\n",
      "public class Point {\n",
      "  public int x;\n",
      "  public int y;\n",
      "  \n",
      "  @Override public String toString() { return String.format(\"[%d,%d]\", x, y); }\n",
      "}"
     ],
     "language": "java",
     "metadata": {
      "ijava.snippet.type": "CompilationUnit"
     },
     "outputs": [],
     "prompt_number": 20
    },
    {
     "cell_type": "code",
     "collapsed": false,
     "input": [
      "// Execute code that attempts to assign value of new type to a variable of an older type\n",
      "p = new Point();"
     ],
     "language": "java",
     "metadata": {
      "ijava.snippet.type": "CodeBlock"
     },
     "outputs": [
      {
       "output_type": "stream",
       "stream": "stderr",
       "text": [
        "The type of the variable 'p', 'class Point', has changed, and its value is no longer usable.\n",
        "Please run the code to re-initialize that variable first, or simply re-run this code to ignore the error and discard it.\n",
        "java.util.ConcurrentModificationException\n",
        "\tat java.util.HashMap$HashIterator.nextEntry(HashMap.java:926)\n",
        "\tat java.util.HashMap$KeyIterator.next(HashMap.java:960)\n",
        "\tat ijava.shell.InteractiveShell.processCode(InteractiveShell.java:265)\n",
        "\tat ijava.shell.InteractiveShell.evaluate(InteractiveShell.java:433)\n",
        "\tat ijava.kernel.SessionWorker.processTask(SessionWorker.java:97)\n",
        "\tat ijava.kernel.SessionWorker.run(SessionWorker.java:177)\n",
        "\tat java.lang.Thread.run(Thread.java:744)\n"
       ]
      }
     ],
     "prompt_number": 21
    },
    {
     "cell_type": "markdown",
     "metadata": {},
     "source": [
      "This is not that much different with a dynamic language. In a dynamic language you'll see odd results at runtime (as opposed to compile time) when trying to use a newer definition against variables associated with a previous definition. In IJava, in response to these errors, the old state is cleared, which allows you to re-declare the variable as done below:"
     ]
    },
    {
     "cell_type": "code",
     "collapsed": false,
     "input": [
      "Point p = new Point();"
     ],
     "language": "java",
     "metadata": {
      "ijava.snippet.type": "CodeMembers"
     },
     "outputs": [],
     "prompt_number": 22
    },
    {
     "cell_type": "code",
     "collapsed": false,
     "input": [
      "// Updated toString behavior from the new definition of Point\n",
      "p.toString()"
     ],
     "language": "java",
     "metadata": {
      "ijava.snippet.type": "CodeExpression"
     },
     "outputs": [
      {
       "metadata": {},
       "output_type": "display_data",
       "text": [
        "[0,0]"
       ]
      }
     ],
     "prompt_number": 23
    }
   ],
   "metadata": {}
  }
 ]
}