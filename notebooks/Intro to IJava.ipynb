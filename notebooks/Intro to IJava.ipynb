{
 "metadata": {
  "name": "",
  "signature": "sha256:00d4509c068bf525d004a3c727f260abf8de67f3ccecbc48db47dbc753062343"
 },
 "nbformat": 3,
 "nbformat_minor": 0,
 "worksheets": [
  {
   "cells": [
    {
     "cell_type": "heading",
     "level": 1,
     "metadata": {},
     "source": [
      "Introduction to IJava"
     ]
    },
    {
     "cell_type": "markdown",
     "metadata": {},
     "source": [
      "IJava is a backend kernel that can be plugged in into IPython to enable a Java-language notebook. This notebook describes and demonstrates the use of IJava, and the Java language in a more dynamic, REPL environment."
     ]
    },
    {
     "cell_type": "heading",
     "level": 2,
     "metadata": {},
     "source": [
      "Cell Types"
     ]
    },
    {
     "cell_type": "markdown",
     "metadata": {},
     "source": [
      "The notebook allows you to use a combination of markdown, header and code cells. Markdown and header cells work in the same way irrespective of the java backend. There are a few different code cell types for use in an IJava notebook:\n",
      "\n",
      "* Executable code  (cells declaring statements or expression which are compiled and immediately executed)\n",
      "* Compiled code (cells declaring types, or imports, or methods, which are compiled and made available for reference)\n",
      "* Commands"
     ]
    },
    {
     "cell_type": "heading",
     "level": 3,
     "metadata": {},
     "source": [
      "Executable Code Cells"
     ]
    },
    {
     "cell_type": "markdown",
     "metadata": {},
     "source": [
      "Executable code cells contain code that is parsed as either java statements or expressions. These cells are compiled, and immediately executed.\n",
      "\n",
      "Here are couple of examples:"
     ]
    },
    {
     "cell_type": "code",
     "collapsed": false,
     "input": [
      "// A statement\n",
      "System.out.println(\"Hello\");"
     ],
     "language": "java",
     "metadata": {
      "ijava.snippet.type": "CodeBlock"
     },
     "outputs": [
      {
       "output_type": "stream",
       "stream": "stdout",
       "text": [
        "Hello\n"
       ]
      }
     ],
     "prompt_number": 1
    },
    {
     "cell_type": "code",
     "collapsed": false,
     "input": [
      "// An expression\n",
      "new Date()"
     ],
     "language": "java",
     "metadata": {
      "ijava.snippet.type": "CodeExpression"
     },
     "outputs": [
      {
       "metadata": {},
       "output_type": "display_data",
       "text": [
        "Sun Jan 25 23:47:14 PST 2015"
       ]
      }
     ],
     "prompt_number": 2
    },
    {
     "cell_type": "heading",
     "level": 3,
     "metadata": {},
     "source": [
      "Compiled Code Cells"
     ]
    },
    {
     "cell_type": "markdown",
     "metadata": {},
     "source": [
      "Compiled code cells contain code that defines members, or types, or import declarations. All of these can subsequently be referred to within executable code cells.\n",
      "\n",
      "Additionally any initializer expressions for field members are immediately executed to either create or update session variables managed by the notebook.\n",
      "\n",
      "Here are some examples:"
     ]
    },
    {
     "cell_type": "code",
     "collapsed": false,
     "input": [
      "// A class declaration\n",
      "public class Calculator {\n",
      "  \n",
      "  private int _value;\n",
      "  \n",
      "  public int add(int value) {\n",
      "    _value += value;\n",
      "    return _value;\n",
      "  }\n",
      "}"
     ],
     "language": "java",
     "metadata": {
      "ijava.snippet.type": "CompilationUnit"
     },
     "outputs": [],
     "prompt_number": 3
    },
    {
     "cell_type": "code",
     "collapsed": false,
     "input": [
      "// A field declaration\n",
      "int a = 42;"
     ],
     "language": "java",
     "metadata": {
      "ijava.snippet.type": "CodeMembers"
     },
     "outputs": [],
     "prompt_number": 4
    },
    {
     "cell_type": "code",
     "collapsed": false,
     "input": [
      "// A method\n",
      "public void sum(int... numbers) {\n",
      "  int sum = 0;\n",
      "  Calculator calc = new Calculator();\n",
      "  for (int i: numbers) {\n",
      "    sum = calc.add(i);\n",
      "  }\n",
      "  \n",
      "  System.out.println(sum);\n",
      "}"
     ],
     "language": "java",
     "metadata": {
      "ijava.snippet.type": "CodeMembers"
     },
     "outputs": [],
     "prompt_number": 5
    },
    {
     "cell_type": "code",
     "collapsed": false,
     "input": [
      "// Referencing the method in an executable code cell\n",
      "sum(1, 2, 3, 4, 5);"
     ],
     "language": "java",
     "metadata": {
      "ijava.snippet.type": "CodeBlock"
     },
     "outputs": [
      {
       "output_type": "stream",
       "stream": "stdout",
       "text": [
        "15\n"
       ]
      }
     ],
     "prompt_number": 6
    },
    {
     "cell_type": "code",
     "collapsed": false,
     "input": [
      "// Import declarations\n",
      "import java.util.regex;"
     ],
     "language": "java",
     "metadata": {},
     "outputs": [],
     "prompt_number": 7
    },
    {
     "cell_type": "heading",
     "level": 3,
     "metadata": {},
     "source": [
      "Command Cells"
     ]
    },
    {
     "cell_type": "markdown",
     "metadata": {},
     "source": [
      "Command cells are very much like commands executed within the notebook. They are not java code directly. Some commands:\n",
      "\n",
      "- imports - lists current set of imports\n",
      "- jars - list current set of referenced dependencies\n",
      "- text - render specified text, or create a String variable with the specified name\n",
      "- html - render specified markup\n",
      "- json - create an Object variable with the JSON contnet parsed"
     ]
    },
    {
     "cell_type": "code",
     "collapsed": false,
     "input": [
      "%imports"
     ],
     "language": "java",
     "metadata": {},
     "outputs": [
      {
       "metadata": {},
       "output_type": "display_data",
       "text": [
        "import java.io.*;\n",
        "import java.net.*;\n",
        "import java.util.*;\n",
        "import java.util.regex;\n",
        "import static ijava.JavaHelpers.*;\n"
       ]
      }
     ],
     "prompt_number": 8
    },
    {
     "cell_type": "code",
     "collapsed": false,
     "input": [
      "%jars"
     ],
     "language": "java",
     "metadata": {},
     "outputs": [
      {
       "metadata": {},
       "output_type": "display_data",
       "text": [
        "ijavart.jar\n",
        "rt.jar\n"
       ]
      }
     ],
     "prompt_number": 9
    },
    {
     "cell_type": "code",
     "collapsed": false,
     "input": [
      "%%html\n",
      "<h1>Hello</h1>"
     ],
     "language": "java",
     "metadata": {},
     "outputs": [
      {
       "html": [
        "<h1>Hello</h1>"
       ],
       "metadata": {},
       "output_type": "display_data"
      }
     ],
     "prompt_number": 10
    },
    {
     "cell_type": "code",
     "collapsed": false,
     "input": [
      "%%json\n",
      "{\n",
      "  \"item1\": \"foobar\",\n",
      "  \"item2\": [\n",
      "    { \"xyz\": 123 }\n",
      "  ]\n",
      "}"
     ],
     "language": "java",
     "metadata": {},
     "outputs": [
      {
       "metadata": {},
       "output_type": "display_data",
       "text": [
        "{item1=foobar, item2=[{xyz=123}]}"
       ]
      }
     ],
     "prompt_number": 11
    },
    {
     "cell_type": "code",
     "collapsed": false,
     "input": [
      "%%json --?"
     ],
     "language": "java",
     "metadata": {},
     "outputs": [
      {
       "output_type": "stream",
       "stream": "stdout",
       "text": [
        "Usage: json [options]\n",
        "  Options:\n",
        "        --help\n",
        "       Show usage information\n",
        "       Default: false\n",
        "        --name\n",
        "       The name of the variable to create\n",
        "       Default: <empty string>\n",
        "\n",
        "[ ... additional content associated with command]\n"
       ]
      }
     ],
     "prompt_number": 12
    },
    {
     "cell_type": "code",
     "collapsed": false,
     "input": [],
     "language": "java",
     "metadata": {},
     "outputs": [],
     "prompt_number": 13
    }
   ],
   "metadata": {}
  }
 ]
}