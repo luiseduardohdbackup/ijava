{
 "metadata": {
  "name": "",
  "signature": "sha256:69da376d30985b3b06faa456cf6ccf34846ab5d06f60199e03c88a83fa0295db"
 },
 "nbformat": 3,
 "nbformat_minor": 0,
 "worksheets": [
  {
   "cells": [
    {
     "cell_type": "code",
     "collapsed": false,
     "input": [
      "%%json items\n",
      "[\n",
      "  {\"x\":\"A\", \"y\":28}, {\"x\":\"B\", \"y\":55}, {\"x\":\"C\", \"y\":43},\n",
      "  {\"x\":\"D\", \"y\":91}, {\"x\":\"E\", \"y\":81}, {\"x\":\"F\", \"y\":53},\n",
      "  {\"x\":\"G\", \"y\":19}, {\"x\":\"H\", \"y\":87}, {\"x\":\"I\", \"y\":52}\n",
      "]"
     ],
     "language": "java",
     "metadata": {},
     "outputs": [],
     "prompt_number": 1
    },
    {
     "cell_type": "code",
     "collapsed": false,
     "input": [
      "items"
     ],
     "language": "java",
     "metadata": {
      "ijava.snippet.type": "CodeExpression"
     },
     "outputs": [
      {
       "metadata": {},
       "output_type": "display_data",
       "text": [
        "[{x=A, y=28}, {x=B, y=55}, {x=C, y=43}, {x=D, y=91}, {x=E, y=81}, {x=F, y=53}, {x=G, y=19}, {x=H, y=87}, {x=I, y=52}]"
       ]
      }
     ],
     "prompt_number": 2
    },
    {
     "cell_type": "code",
     "collapsed": false,
     "input": [
      "%json.chart columns items"
     ],
     "language": "java",
     "metadata": {},
     "outputs": [
      {
       "html": [
        "<div id='_1420668112083'></div><script>\n",
        "(function(dom) {\n",
        "require(['extensions/charting'], function(charts) {\n",
        "charts.render(dom, 'columns', 'items', {});\n",
        "});})(document.getElementById('_1420668112083'))\n",
        "</script>"
       ],
       "metadata": {},
       "output_type": "display_data"
      }
     ],
     "prompt_number": 3
    },
    {
     "cell_type": "code",
     "collapsed": false,
     "input": [],
     "language": "java",
     "metadata": {},
     "outputs": []
    }
   ],
   "metadata": {}
  }
 ]
}