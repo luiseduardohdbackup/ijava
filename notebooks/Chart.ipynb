{
 "metadata": {
  "name": "",
  "signature": "sha256:ce4d274febfcb920130d6fb4afd9aee18f1323dc8debbe106fee561f2dd83519"
 },
 "nbformat": 3,
 "nbformat_minor": 0,
 "worksheets": [
  {
   "cells": [
    {
     "cell_type": "code",
     "collapsed": false,
     "input": [
      "%%json items\n",
      "[\n",
      "  {\"x\":\"A\", \"y\":28}, {\"x\":\"B\", \"y\":55}, {\"x\":\"C\", \"y\":43},\n",
      "  {\"x\":\"D\", \"y\":91}, {\"x\":\"E\", \"y\":81}, {\"x\":\"F\", \"y\":53},\n",
      "  {\"x\":\"G\", \"y\":19}, {\"x\":\"H\", \"y\":87}, {\"x\":\"I\", \"y\":52}\n",
      "]"
     ],
     "language": "java",
     "metadata": {},
     "outputs": [],
     "prompt_number": 1
    },
    {
     "cell_type": "code",
     "collapsed": false,
     "input": [
      "items"
     ],
     "language": "java",
     "metadata": {
      "ijava.snippet.type": "CodeExpression"
     },
     "outputs": [
      {
       "metadata": {},
       "output_type": "display_data",
       "text": [
        "[{x=A, y=28}, {x=B, y=55}, {x=C, y=43}, {x=D, y=91}, {x=E, y=81}, {x=F, y=53}, {x=G, y=19}, {x=H, y=87}, {x=I, y=52}]"
       ]
      }
     ],
     "prompt_number": 2
    },
    {
     "cell_type": "code",
     "collapsed": false,
     "input": [
      "%%json.chart\n",
      "{\n",
      "  \"width\": 400,\n",
      "  \"height\": 200,\n",
      "  \"padding\": {\"top\": 10, \"left\": 30, \"bottom\": 20, \"right\": 10},\n",
      "  \"data\": [\n",
      "    {\n",
      "      \"name\": \"items\"\n",
      "    }\n",
      "  ],\n",
      "  \"scales\": [\n",
      "    {\"name\":\"x\", \"type\":\"ordinal\", \"range\":\"width\", \"domain\":{\"data\":\"items\", \"field\":\"data.x\"}},\n",
      "    {\"name\":\"y\", \"range\":\"height\", \"nice\":true, \"domain\":{\"data\":\"items\", \"field\":\"data.y\"}}\n",
      "  ],\n",
      "  \"axes\": [\n",
      "    {\"type\":\"x\", \"scale\":\"x\"},\n",
      "    {\"type\":\"y\", \"scale\":\"y\"}\n",
      "  ],\n",
      "  \"marks\": [\n",
      "    {\n",
      "      \"type\": \"rect\",\n",
      "      \"from\": {\"data\":\"items\"},\n",
      "      \"properties\": {\n",
      "        \"enter\": {\n",
      "          \"x\": {\"scale\":\"x\", \"field\":\"data.x\"},\n",
      "          \"width\": {\"scale\":\"x\", \"band\":true, \"offset\":-1},\n",
      "          \"y\": {\"scale\":\"y\", \"field\":\"data.y\"},\n",
      "          \"y2\": {\"scale\":\"y\", \"value\":0}\n",
      "        },\n",
      "        \"update\": { \"fill\": {\"value\":\"steelblue\"} },\n",
      "        \"hover\": { \"fill\": {\"value\":\"red\"} }\n",
      "      }\n",
      "    }\n",
      "  ]\n",
      "}"
     ],
     "language": "java",
     "metadata": {},
     "outputs": [
      {
       "html": [
        "<div id='_1420579651100'></div><script>\n",
        "(function(dom) {\n",
        "require(['extensions/charting'], function(charts) {\n",
        "charts.render(dom, {\n",
        "  \"width\": 400,\n",
        "  \"height\": 200,\n",
        "  \"padding\": {\"top\": 10, \"left\": 30, \"bottom\": 20, \"right\": 10},\n",
        "  \"data\": [\n",
        "    {\n",
        "      \"name\": \"items\"\n",
        "    }\n",
        "  ],\n",
        "  \"scales\": [\n",
        "    {\"name\":\"x\", \"type\":\"ordinal\", \"range\":\"width\", \"domain\":{\"data\":\"items\", \"field\":\"data.x\"}},\n",
        "    {\"name\":\"y\", \"range\":\"height\", \"nice\":true, \"domain\":{\"data\":\"items\", \"field\":\"data.y\"}}\n",
        "  ],\n",
        "  \"axes\": [\n",
        "    {\"type\":\"x\", \"scale\":\"x\"},\n",
        "    {\"type\":\"y\", \"scale\":\"y\"}\n",
        "  ],\n",
        "  \"marks\": [\n",
        "    {\n",
        "      \"type\": \"rect\",\n",
        "      \"from\": {\"data\":\"items\"},\n",
        "      \"properties\": {\n",
        "        \"enter\": {\n",
        "          \"x\": {\"scale\":\"x\", \"field\":\"data.x\"},\n",
        "          \"width\": {\"scale\":\"x\", \"band\":true, \"offset\":-1},\n",
        "          \"y\": {\"scale\":\"y\", \"field\":\"data.y\"},\n",
        "          \"y2\": {\"scale\":\"y\", \"value\":0}\n",
        "        },\n",
        "        \"update\": { \"fill\": {\"value\":\"steelblue\"} },\n",
        "        \"hover\": { \"fill\": {\"value\":\"red\"} }\n",
        "      }\n",
        "    }\n",
        "  ]\n",
        "});\n",
        "});})(document.getElementById('_1420579651100'))\n",
        "</script>"
       ],
       "metadata": {},
       "output_type": "display_data"
      }
     ],
     "prompt_number": 3
    },
    {
     "cell_type": "code",
     "collapsed": false,
     "input": [],
     "language": "java",
     "metadata": {},
     "outputs": []
    }
   ],
   "metadata": {}
  }
 ]
}